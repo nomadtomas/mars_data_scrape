{
 "cells": [
  {
   "cell_type": "code",
   "execution_count": 1,
   "metadata": {},
   "outputs": [],
   "source": [
    "import pandas as pd\n",
    "from splinter import Browser\n",
    "from selenium import webdriver\n",
    "from bs4 import BeautifulSoup as bs\n",
    "import requests\n",
    "import pymongo\n",
    "import time"
   ]
  },
  {
   "cell_type": "markdown",
   "metadata": {},
   "source": [
    "# NASA Mars News"
   ]
  },
  {
   "cell_type": "code",
   "execution_count": 2,
   "metadata": {},
   "outputs": [],
   "source": [
    "#Mars News url\n",
    "news_url = 'https://mars.nasa.gov/news'\n",
    "\n",
    "#Browser setup\n",
    "executable_path = {'executable_path': '/usr/local/bin/chromedriver'}\n",
    "browser = Browser('chrome')\n",
    "browser.visit(news_url)"
   ]
  },
  {
   "cell_type": "code",
   "execution_count": null,
   "metadata": {
    "collapsed": true
   },
   "outputs": [],
   "source": [
    "#Create BeautifulSoup object and parse\n",
    "soup = bs(browser.html, 'html.parser')"
   ]
  },
  {
   "cell_type": "code",
   "execution_count": null,
   "metadata": {},
   "outputs": [],
   "source": [
    "#Latest news title\n",
    "news_title = soup.find(class_='content_title').get_text(strip=True)\n",
    "news_title"
   ]
  },
  {
   "cell_type": "code",
   "execution_count": null,
   "metadata": {},
   "outputs": [],
   "source": [
    "#Paragraph from title\n",
    "news_p = soup.find(class_='article_teaser_body').get_text(strip=True)\n",
    "news_p"
   ]
  },
  {
   "cell_type": "markdown",
   "metadata": {},
   "source": [
    "# JPL Mars Space Images - Featured Image"
   ]
  },
  {
   "cell_type": "code",
   "execution_count": 16,
   "metadata": {
    "collapsed": true
   },
   "outputs": [],
   "source": [
    "jpl_url = \"https://www.jpl.nasa.gov/spaceimages/?search=&category=Mars\"\n",
    "base_url =\"https://www.jpl.nasa.gov\""
   ]
  },
  {
   "cell_type": "code",
   "execution_count": 17,
   "metadata": {},
   "outputs": [],
   "source": [
    "#Browser setup\n",
    "browser.visit(jpl_url)"
   ]
  },
  {
   "cell_type": "code",
   "execution_count": 18,
   "metadata": {},
   "outputs": [],
   "source": [
    "#Utilize Browser objects to manipulate website\n",
    "browser.click_link_by_id(\"full_image\")\n",
    "time.sleep(3)\n",
    "#Utilize Browser objects to manipulate website\n",
    "browser.click_link_by_partial_text('more info')"
   ]
  },
  {
   "cell_type": "code",
   "execution_count": 19,
   "metadata": {
    "collapsed": true
   },
   "outputs": [],
   "source": [
    "#Create BeautifulSoup and parse;\n",
    "html = browser.html\n",
    "featured_image_soup = bs(html,\"html.parser\")"
   ]
  },
  {
   "cell_type": "code",
   "execution_count": 20,
   "metadata": {},
   "outputs": [],
   "source": [
    "#Obtain image href, alt description, and connect to url\n",
    "featured_image = featured_image_soup.find(class_=\"lede\")\n",
    "featured_image_alt = featured_image.a.img['alt']\n",
    "featured_image_url = (base_url + featured_image.a[\"href\"])"
   ]
  },
  {
   "cell_type": "code",
   "execution_count": 21,
   "metadata": {},
   "outputs": [
    {
     "name": "stdout",
     "output_type": "stream",
     "text": [
      "https://www.jpl.nasa.gov/spaceimages/images/largesize/PIA18826_hires.jpg\n"
     ]
    }
   ],
   "source": [
    "print(featured_image_url)"
   ]
  },
  {
   "cell_type": "markdown",
   "metadata": {},
   "source": [
    "# Mars Weather"
   ]
  },
  {
   "cell_type": "code",
   "execution_count": null,
   "metadata": {
    "collapsed": true
   },
   "outputs": [],
   "source": [
    "tweeter_url = \"https://twitter.com/marswxreport?lang=en\""
   ]
  },
  {
   "cell_type": "code",
   "execution_count": null,
   "metadata": {
    "collapsed": true
   },
   "outputs": [],
   "source": [
    "#Browser setup\n",
    "browser.visit(tweeter_url)\n",
    "#Create BeautifulSoup and parse;\n",
    "html = browser.html\n",
    "tweet_soup = bs(html, 'html.parser')\n",
    "#Obtain and asign mars_weather result\n",
    "mars_weather = tweet_soup.find(class_='TweetTextSize TweetTextSize--normal js-tweet-text tweet-text').get_text(strip=True)"
   ]
  },
  {
   "cell_type": "code",
   "execution_count": null,
   "metadata": {},
   "outputs": [],
   "source": [
    "print(mars_weather)"
   ]
  },
  {
   "cell_type": "markdown",
   "metadata": {},
   "source": [
    "# Mars Facts"
   ]
  },
  {
   "cell_type": "code",
   "execution_count": 12,
   "metadata": {},
   "outputs": [],
   "source": [
    "def planet_facts(planet='mars'):\n",
    "    '''\n",
    "    Scrap data from NASA website regarding information about any of the 8 planets.\n",
    "    USE: mercury, venus, earth, mars, jupiter, saturn, uranus, neptune\n",
    "    \n",
    "    *Use lower case*\n",
    "    *Default value is mars*\n",
    "    '''\n",
    "    try:\n",
    "        planet_facts_url = (\"https://space-facts.com/\" + planet + \"/\")\n",
    "        #Browser setup\n",
    "        browser.visit(planet_facts_url)\n",
    "        data = pd.read_html(planet_facts_url)\n",
    "        data = data[0]\n",
    "        data.columns = ['Description', 'Info']\n",
    "        data.to_html(index=False)\n",
    "        data = data.replace('\\n','')\n",
    "        \n",
    "        return data\n",
    "    except Exception as e:\n",
    "        print('Please read docstring')"
   ]
  },
  {
   "cell_type": "markdown",
   "metadata": {},
   "source": [
    "# Mars Hemispheres"
   ]
  },
  {
   "cell_type": "code",
   "execution_count": 3,
   "metadata": {},
   "outputs": [],
   "source": [
    "mars_hem = \"https://astrogeology.usgs.gov/search/results?q=hemisphere+enhanced&k1=target&v1=Mars\"\n",
    "base_url = \"https://astrogeology.usgs.gov/\""
   ]
  },
  {
   "cell_type": "code",
   "execution_count": 4,
   "metadata": {},
   "outputs": [],
   "source": [
    "browser.visit(mars_hem)"
   ]
  },
  {
   "cell_type": "code",
   "execution_count": 5,
   "metadata": {
    "collapsed": true
   },
   "outputs": [],
   "source": [
    "html = browser.html\n",
    "mars_hem_soup = bs(html, 'html.parser')"
   ]
  },
  {
   "cell_type": "code",
   "execution_count": 6,
   "metadata": {},
   "outputs": [
    {
     "data": {
      "text/plain": [
       "'/search/map/Mars/Viking/schiaparelli_enhanced'"
      ]
     },
     "execution_count": 6,
     "metadata": {},
     "output_type": "execute_result"
    }
   ],
   "source": [
    "mars_data = mars_hem_soup.find_all(class_='itemLink product-item')\n",
    "mars_data[2]['href']"
   ]
  },
  {
   "cell_type": "code",
   "execution_count": null,
   "metadata": {},
   "outputs": [],
   "source": [
    "#Generate empty lists\n",
    "hemisphere_image_urls = []\n",
    "hemisphere_dict = {}\n",
    "\n",
    "for link in range(0,len(mars_data),2):\n",
    "    #Visit each hemisphere url\n",
    "    browser.visit(base_url + mars_data[link][\"href\"])\n",
    "    time.sleep(3)\n",
    "    \n",
    "    #Convert page to html to parse title\n",
    "    html = browser.html\n",
    "    mars_hem_soup = bs(html, \"html.parser\")\n",
    "    \n",
    "    #Scrape for text\n",
    "    #Extract title from h2 tag\n",
    "    hemisphere_title = mars_hem_soup.find(\"h2\", class_=\"title\").text\n",
    "     \n",
    "    #Look for 'sample' button that contains our image links\n",
    "    sample_button = browser.find_link_by_text(\"Sample\").first\n",
    "    \n",
    "    #Save image links to our list\n",
    "    hemisphere_dict = {\"title\": hemisphere_title, \"img_url\": sample_button[\"href\"]}\n",
    "    hemisphere_image_urls.append(hemisphere_dict)\n",
    "\n",
    "#Close open browser\n",
    "browser.quit()"
   ]
  },
  {
   "cell_type": "code",
   "execution_count": null,
   "metadata": {},
   "outputs": [],
   "source": [
    "hemisphere_image_urls"
   ]
  },
  {
   "cell_type": "code",
   "execution_count": null,
   "metadata": {
    "collapsed": true
   },
   "outputs": [],
   "source": []
  }
 ],
 "metadata": {
  "kernelspec": {
   "display_name": "Python [conda env:PythonData]",
   "language": "python",
   "name": "pythondata"
  },
  "language_info": {
   "codemirror_mode": {
    "name": "ipython",
    "version": 3
   },
   "file_extension": ".py",
   "mimetype": "text/x-python",
   "name": "python",
   "nbconvert_exporter": "python",
   "pygments_lexer": "ipython3",
   "version": "3.6.3"
  }
 },
 "nbformat": 4,
 "nbformat_minor": 2
}
